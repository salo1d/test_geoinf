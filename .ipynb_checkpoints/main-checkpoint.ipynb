{
 "cells": [
  {
   "cell_type": "markdown",
   "metadata": {},
   "source": [
    "### Якимчук О."
   ]
  },
  {
   "cell_type": "code",
   "execution_count": 1,
   "metadata": {
    "colab": {
     "base_uri": "https://localhost:8080/",
     "height": 122
    },
    "colab_type": "code",
    "id": "-bwYHpFGqD81",
    "outputId": "9e7d5ad8-b6d1-4966-939f-0263305afed1"
   },
   "outputs": [],
   "source": [
    "# from google.colab import drive\n",
    "# drive.mount('/content/gdrive')"
   ]
  },
  {
   "cell_type": "code",
   "execution_count": 2,
   "metadata": {
    "colab": {},
    "colab_type": "code",
    "id": "tfytH838qQt4"
   },
   "outputs": [],
   "source": [
    "import pandas as pd\n",
    "import numpy as np\n",
    "import seaborn as sb\n",
    "import matplotlib.pyplot as plt"
   ]
  },
  {
   "cell_type": "markdown",
   "metadata": {
    "colab_type": "text",
    "id": "ymlLW-Sq1tfk"
   },
   "source": [
    "Завантажуємо дані, ти дивимося на перші 5 рядків:"
   ]
  },
  {
   "cell_type": "code",
   "execution_count": 3,
   "metadata": {
    "colab": {
     "base_uri": "https://localhost:8080/",
     "height": 204
    },
    "colab_type": "code",
    "id": "UKSXiTqVqdlx",
    "outputId": "b46b853a-e6aa-4673-d6f6-70ac0b5d6f20"
   },
   "outputs": [
    {
     "data": {
      "text/html": [
       "<div>\n",
       "<style scoped>\n",
       "    .dataframe tbody tr th:only-of-type {\n",
       "        vertical-align: middle;\n",
       "    }\n",
       "\n",
       "    .dataframe tbody tr th {\n",
       "        vertical-align: top;\n",
       "    }\n",
       "\n",
       "    .dataframe thead th {\n",
       "        text-align: right;\n",
       "    }\n",
       "</style>\n",
       "<table border=\"1\" class=\"dataframe\">\n",
       "  <thead>\n",
       "    <tr style=\"text-align: right;\">\n",
       "      <th></th>\n",
       "      <th>Unnamed: 0</th>\n",
       "      <th>ISO</th>\n",
       "      <th>UA</th>\n",
       "      <th>Cql</th>\n",
       "      <th>Ie</th>\n",
       "      <th>Iec</th>\n",
       "      <th>Is</th>\n",
       "    </tr>\n",
       "  </thead>\n",
       "  <tbody>\n",
       "    <tr>\n",
       "      <th>0</th>\n",
       "      <td>Albania</td>\n",
       "      <td>ALB</td>\n",
       "      <td>Àëáàí³ÿ</td>\n",
       "      <td>0,97392353</td>\n",
       "      <td>0,605347614</td>\n",
       "      <td>0,538672856</td>\n",
       "      <td>0,510112666</td>\n",
       "    </tr>\n",
       "    <tr>\n",
       "      <th>1</th>\n",
       "      <td>Algeria</td>\n",
       "      <td>DZA</td>\n",
       "      <td>Àëæèð</td>\n",
       "      <td>0,782134498</td>\n",
       "      <td>0,58721932</td>\n",
       "      <td>0,348159396</td>\n",
       "      <td>0,497985576</td>\n",
       "    </tr>\n",
       "    <tr>\n",
       "      <th>2</th>\n",
       "      <td>Angola</td>\n",
       "      <td>AGO</td>\n",
       "      <td>Àíãîëà</td>\n",
       "      <td>0,372343539</td>\n",
       "      <td>0,27439361</td>\n",
       "      <td>0,332117384</td>\n",
       "      <td>0,346906645</td>\n",
       "    </tr>\n",
       "    <tr>\n",
       "      <th>3</th>\n",
       "      <td>Argentina</td>\n",
       "      <td>ARG</td>\n",
       "      <td>Àðãåíòèíà</td>\n",
       "      <td>0,883830062</td>\n",
       "      <td>0,699685109</td>\n",
       "      <td>0,28199471</td>\n",
       "      <td>0,518820368</td>\n",
       "    </tr>\n",
       "    <tr>\n",
       "      <th>4</th>\n",
       "      <td>Armenia</td>\n",
       "      <td>ARM</td>\n",
       "      <td>Â³ðìåí³ÿ</td>\n",
       "      <td>1,016498793</td>\n",
       "      <td>0,718326882</td>\n",
       "      <td>0,535647909</td>\n",
       "      <td>0,486498047</td>\n",
       "    </tr>\n",
       "  </tbody>\n",
       "</table>\n",
       "</div>"
      ],
      "text/plain": [
       "  Unnamed: 0  ISO         UA          Cql           Ie          Iec  \\\n",
       "0    Albania  ALB    Àëáàí³ÿ   0,97392353  0,605347614  0,538672856   \n",
       "1    Algeria  DZA      Àëæèð  0,782134498   0,58721932  0,348159396   \n",
       "2     Angola  AGO     Àíãîëà  0,372343539   0,27439361  0,332117384   \n",
       "3  Argentina  ARG  Àðãåíòèíà  0,883830062  0,699685109   0,28199471   \n",
       "4    Armenia  ARM   Â³ðìåí³ÿ  1,016498793  0,718326882  0,535647909   \n",
       "\n",
       "            Is  \n",
       "0  0,510112666  \n",
       "1  0,497985576  \n",
       "2  0,346906645  \n",
       "3  0,518820368  \n",
       "4  0,486498047  "
      ]
     },
     "execution_count": 3,
     "metadata": {},
     "output_type": "execute_result"
    }
   ],
   "source": [
    "# df = pd.read_csv('/content/gdrive/My Drive/task.csv', sep=';',  encoding = \"ISO-8859-1\")\n",
    "df = pd.read_csv('task.csv', sep=';',  encoding = \"ISO-8859-1\")\n",
    "df.head()"
   ]
  },
  {
   "cell_type": "markdown",
   "metadata": {
    "colab_type": "text",
    "id": "R1I31iRE12ME"
   },
   "source": [
    "Далі видалємо перші 3 колонки, вони нам не потрібні на даному етапі, якщо потім знадобляться, ми зможемо їх додати по індексу"
   ]
  },
  {
   "cell_type": "code",
   "execution_count": 4,
   "metadata": {
    "colab": {
     "base_uri": "https://localhost:8080/",
     "height": 204
    },
    "colab_type": "code",
    "id": "XgRTnLKStNZy",
    "outputId": "b579547f-c967-422b-a662-af86fd67eb14"
   },
   "outputs": [
    {
     "data": {
      "text/html": [
       "<div>\n",
       "<style scoped>\n",
       "    .dataframe tbody tr th:only-of-type {\n",
       "        vertical-align: middle;\n",
       "    }\n",
       "\n",
       "    .dataframe tbody tr th {\n",
       "        vertical-align: top;\n",
       "    }\n",
       "\n",
       "    .dataframe thead th {\n",
       "        text-align: right;\n",
       "    }\n",
       "</style>\n",
       "<table border=\"1\" class=\"dataframe\">\n",
       "  <thead>\n",
       "    <tr style=\"text-align: right;\">\n",
       "      <th></th>\n",
       "      <th>Cql</th>\n",
       "      <th>Ie</th>\n",
       "      <th>Iec</th>\n",
       "      <th>Is</th>\n",
       "    </tr>\n",
       "  </thead>\n",
       "  <tbody>\n",
       "    <tr>\n",
       "      <th>0</th>\n",
       "      <td>0,97392353</td>\n",
       "      <td>0,605347614</td>\n",
       "      <td>0,538672856</td>\n",
       "      <td>0,510112666</td>\n",
       "    </tr>\n",
       "    <tr>\n",
       "      <th>1</th>\n",
       "      <td>0,782134498</td>\n",
       "      <td>0,58721932</td>\n",
       "      <td>0,348159396</td>\n",
       "      <td>0,497985576</td>\n",
       "    </tr>\n",
       "    <tr>\n",
       "      <th>2</th>\n",
       "      <td>0,372343539</td>\n",
       "      <td>0,27439361</td>\n",
       "      <td>0,332117384</td>\n",
       "      <td>0,346906645</td>\n",
       "    </tr>\n",
       "    <tr>\n",
       "      <th>3</th>\n",
       "      <td>0,883830062</td>\n",
       "      <td>0,699685109</td>\n",
       "      <td>0,28199471</td>\n",
       "      <td>0,518820368</td>\n",
       "    </tr>\n",
       "    <tr>\n",
       "      <th>4</th>\n",
       "      <td>1,016498793</td>\n",
       "      <td>0,718326882</td>\n",
       "      <td>0,535647909</td>\n",
       "      <td>0,486498047</td>\n",
       "    </tr>\n",
       "  </tbody>\n",
       "</table>\n",
       "</div>"
      ],
      "text/plain": [
       "           Cql           Ie          Iec           Is\n",
       "0   0,97392353  0,605347614  0,538672856  0,510112666\n",
       "1  0,782134498   0,58721932  0,348159396  0,497985576\n",
       "2  0,372343539   0,27439361  0,332117384  0,346906645\n",
       "3  0,883830062  0,699685109   0,28199471  0,518820368\n",
       "4  1,016498793  0,718326882  0,535647909  0,486498047"
      ]
     },
     "execution_count": 4,
     "metadata": {},
     "output_type": "execute_result"
    }
   ],
   "source": [
    "df = df.drop(['Unnamed: 0', 'ISO', 'UA'], axis=1)\n",
    "df.head()"
   ]
  },
  {
   "cell_type": "markdown",
   "metadata": {
    "colab_type": "text",
    "id": "6T8QtBoy2KGZ"
   },
   "source": [
    "Дивимося загальну інформацію по датасету:"
   ]
  },
  {
   "cell_type": "code",
   "execution_count": 5,
   "metadata": {
    "colab": {
     "base_uri": "https://localhost:8080/",
     "height": 170
    },
    "colab_type": "code",
    "id": "5fQAuKc3tdnW",
    "outputId": "d8a90af2-d546-4426-af44-cb5cea3c8569"
   },
   "outputs": [
    {
     "name": "stdout",
     "output_type": "stream",
     "text": [
      "<class 'pandas.core.frame.DataFrame'>\n",
      "RangeIndex: 132 entries, 0 to 131\n",
      "Data columns (total 4 columns):\n",
      "Cql    132 non-null object\n",
      "Ie     132 non-null object\n",
      "Iec    132 non-null object\n",
      "Is     132 non-null object\n",
      "dtypes: object(4)\n",
      "memory usage: 4.2+ KB\n"
     ]
    }
   ],
   "source": [
    "df.info()"
   ]
  },
  {
   "cell_type": "markdown",
   "metadata": {
    "colab_type": "text",
    "id": "etodONTw2Pnx"
   },
   "source": [
    "як бачимо, в нас 132 рядки, немає NaN-ів, проте є проблема, що тип даних - object, проблема зв'язана з python, він не розпізнає float, який розділений комою, наступна дія це пофіксить:"
   ]
  },
  {
   "cell_type": "code",
   "execution_count": 6,
   "metadata": {
    "colab": {
     "base_uri": "https://localhost:8080/",
     "height": 170
    },
    "colab_type": "code",
    "id": "kSz1Z_qfttm_",
    "outputId": "dc7c6984-7957-471d-dfc6-1c4b4a49278c"
   },
   "outputs": [
    {
     "name": "stdout",
     "output_type": "stream",
     "text": [
      "<class 'pandas.core.frame.DataFrame'>\n",
      "RangeIndex: 132 entries, 0 to 131\n",
      "Data columns (total 4 columns):\n",
      "Cql    132 non-null float64\n",
      "Ie     132 non-null float64\n",
      "Iec    132 non-null float64\n",
      "Is     132 non-null float64\n",
      "dtypes: float64(4)\n",
      "memory usage: 4.2 KB\n"
     ]
    }
   ],
   "source": [
    "def replace_comma_to_dot(raw):\n",
    "    for j in range(len(raw)):\n",
    "        raw[j] = str(raw[j]).replace(',', '.')\n",
    "    return raw\n",
    "\n",
    "df = df.apply(replace_comma_to_dot)\n",
    "\n",
    "for i in df.columns:\n",
    "    df[i] = pd.to_numeric(df[i])\n",
    "df.info()"
   ]
  },
  {
   "cell_type": "markdown",
   "metadata": {
    "colab_type": "text",
    "id": "Mobegkke2m1U"
   },
   "source": [
    "Як можемо побачити, тепер в нас тип даних float :)\n",
    "\n",
    "Далі замінимо всі від'ємні значення, якщо такі є, на додатні:"
   ]
  },
  {
   "cell_type": "code",
   "execution_count": 7,
   "metadata": {
    "colab": {},
    "colab_type": "code",
    "id": "gZLvf8Np0b_F"
   },
   "outputs": [],
   "source": [
    "def abs_dataframe(raw):\n",
    "    for j in range(len(raw)):\n",
    "        if raw[j] < 0:\n",
    "            raw[j] = np.absolute(raw[j])\n",
    "    return raw\n",
    "\n",
    "df = df.apply(abs_dataframe)"
   ]
  },
  {
   "cell_type": "markdown",
   "metadata": {
    "colab_type": "text",
    "id": "3x3cB4sh23BL"
   },
   "source": [
    "Тепер побудуємо кореляційну матрицю:"
   ]
  },
  {
   "cell_type": "code",
   "execution_count": 8,
   "metadata": {
    "colab": {
     "base_uri": "https://localhost:8080/",
     "height": 364
    },
    "colab_type": "code",
    "id": "Xa_gEnpjtf1Z",
    "outputId": "955251dd-9a88-46af-c97c-b1547427517f"
   },
   "outputs": [
    {
     "data": {
      "text/plain": [
       "<matplotlib.axes._subplots.AxesSubplot at 0x2134b67f6d8>"
      ]
     },
     "execution_count": 8,
     "metadata": {},
     "output_type": "execute_result"
    },
    {
     "data": {
      "image/png": "[encoded data removed]",
      "text/plain": [
       "<Figure size 432x288 with 2 Axes>"
      ]
     },
     "metadata": {
      "needs_background": "light"
     },
     "output_type": "display_data"
    }
   ],
   "source": [
    "corr = df.corr()\n",
    "sb.heatmap(corr, annot=True)"
   ]
  },
  {
   "cell_type": "markdown",
   "metadata": {},
   "source": [
    "Побудуємо \"ящики з вусами\", щоб виявити аутлаєрів, якщо такі є"
   ]
  },
  {
   "cell_type": "code",
   "execution_count": 9,
   "metadata": {},
   "outputs": [
    {
     "data": {
      "text/plain": [
       "<matplotlib.axes._subplots.AxesSubplot at 0x2134d78ad68>"
      ]
     },
     "execution_count": 9,
     "metadata": {},
     "output_type": "execute_result"
    },
    {
     "data": {
      "image/png": "[encoded data removed]",
      "text/plain": [
       "<Figure size 504x504 with 1 Axes>"
      ]
     },
     "metadata": {
      "needs_background": "light"
     },
     "output_type": "display_data"
    }
   ],
   "source": [
    "plt.figure(figsize=(7, 7))\n",
    "sb.boxplot(y='Cql',data=df,palette='winter')"
   ]
  },
  {
   "cell_type": "markdown",
   "metadata": {},
   "source": [
    "по змінній \"Cql\" аутлаєрів немає "
   ]
  },
  {
   "cell_type": "code",
   "execution_count": 10,
   "metadata": {},
   "outputs": [
    {
     "data": {
      "text/plain": [
       "<matplotlib.axes._subplots.AxesSubplot at 0x2134d7eb668>"
      ]
     },
     "execution_count": 10,
     "metadata": {},
     "output_type": "execute_result"
    },
    {
     "data": {
      "image/png": "[encoded data removed]",
      "text/plain": [
       "<Figure size 504x504 with 1 Axes>"
      ]
     },
     "metadata": {
      "needs_background": "light"
     },
     "output_type": "display_data"
    }
   ],
   "source": [
    "plt.figure(figsize=(7, 7))\n",
    "sb.boxplot(y='Ie',data=df,palette='winter')"
   ]
  },
  {
   "cell_type": "markdown",
   "metadata": {},
   "source": [
    "по змінній \"Ie\" аутлаєрів немає"
   ]
  },
  {
   "cell_type": "code",
   "execution_count": 11,
   "metadata": {},
   "outputs": [
    {
     "data": {
      "text/plain": [
       "<matplotlib.axes._subplots.AxesSubplot at 0x2134e815ac8>"
      ]
     },
     "execution_count": 11,
     "metadata": {},
     "output_type": "execute_result"
    },
    {
     "data": {
      "image/png": "[encoded data removed]",
      "text/plain": [
       "<Figure size 504x504 with 1 Axes>"
      ]
     },
     "metadata": {
      "needs_background": "light"
     },
     "output_type": "display_data"
    }
   ],
   "source": [
    "plt.figure(figsize=(7, 7))\n",
    "sb.boxplot(y='Iec',data=df,palette='winter')"
   ]
  },
  {
   "cell_type": "markdown",
   "metadata": {},
   "source": [
    "по змінній \"Iec\" аутлаєрів немає"
   ]
  },
  {
   "cell_type": "markdown",
   "metadata": {
    "colab_type": "text",
    "id": "5Eay-5ao3ASa"
   },
   "source": [
    "розіб'ємо дані на навчальну і тестову вибірки, таким чином, щоб тестова становила 20% від всіх даних"
   ]
  },
  {
   "cell_type": "code",
   "execution_count": 12,
   "metadata": {
    "colab": {},
    "colab_type": "code",
    "id": "IwIpkHQQ1rfO"
   },
   "outputs": [],
   "source": [
    "from sklearn.model_selection import train_test_split"
   ]
  },
  {
   "cell_type": "code",
   "execution_count": 13,
   "metadata": {
    "colab": {},
    "colab_type": "code",
    "id": "VigifSmX3x5G"
   },
   "outputs": [],
   "source": [
    "X_train, X_test, y_train, y_test = train_test_split(df.drop('Is',axis=1), \n",
    "                                                    df['Is'], test_size=0.20, \n",
    "                                                    random_state=101)"
   ]
  },
  {
   "cell_type": "markdown",
   "metadata": {},
   "source": [
    "## Лінійна регресія"
   ]
  },
  {
   "cell_type": "markdown",
   "metadata": {
    "colab_type": "text",
    "id": "NST2Vk-035nN"
   },
   "source": [
    "Спробуємо натренувати лінійну регресію\n",
    "\n",
    "#### Для оцінки будемо використовувати метрику $R^2$\n"
   ]
  },
  {
   "cell_type": "code",
   "execution_count": 14,
   "metadata": {
    "colab": {},
    "colab_type": "code",
    "id": "SRI2o8Zs1Ojg"
   },
   "outputs": [],
   "source": [
    "from sklearn.linear_model import LinearRegression\n",
    "from sklearn.metrics import r2_score\n",
    "from sklearn.model_selection import cross_val_score"
   ]
  },
  {
   "cell_type": "code",
   "execution_count": 15,
   "metadata": {
    "colab": {
     "base_uri": "https://localhost:8080/",
     "height": 34
    },
    "colab_type": "code",
    "id": "aTS-aG1U0S79",
    "outputId": "280ca17c-cd7d-4b05-989b-dfc95c40cba2"
   },
   "outputs": [
    {
     "data": {
      "text/plain": [
       "0.9732314547130143"
      ]
     },
     "execution_count": 15,
     "metadata": {},
     "output_type": "execute_result"
    }
   ],
   "source": [
    "lr = LinearRegression(n_jobs=-1)\n",
    "lr = lr.fit(X_train, y_train)\n",
    "y_pred = lr.predict(X_test)\n",
    "r2_score(y_test, y_pred)"
   ]
  },
  {
   "cell_type": "markdown",
   "metadata": {
    "colab_type": "text",
    "id": "roGXGefc8ryW"
   },
   "source": [
    "Як бачимо, отримали досить непоганий результат, для перевірки його адекватності проведемо крос-валідацію:"
   ]
  },
  {
   "cell_type": "code",
   "execution_count": 16,
   "metadata": {
    "colab": {
     "base_uri": "https://localhost:8080/",
     "height": 34
    },
    "colab_type": "code",
    "id": "0q0UwDMz5bM8",
    "outputId": "ce9e06d4-cd27-4cd8-a434-03ba9827d9bd"
   },
   "outputs": [
    {
     "data": {
      "text/plain": [
       "array([0.96211109, 0.97732049, 0.96406087, 0.96860884, 0.94903708])"
      ]
     },
     "execution_count": 16,
     "metadata": {},
     "output_type": "execute_result"
    }
   ],
   "source": [
    "scores = cross_val_score(lr, df.drop('Is', axis=1), df['Is'], scoring='r2', cv=5)\n",
    "scores"
   ]
  },
  {
   "cell_type": "markdown",
   "metadata": {},
   "source": [
    "Знайдемо загальний результат для лінійної регресії:"
   ]
  },
  {
   "cell_type": "code",
   "execution_count": 17,
   "metadata": {},
   "outputs": [
    {
     "data": {
      "text/plain": [
       "0.9642276719438145"
      ]
     },
     "execution_count": 17,
     "metadata": {},
     "output_type": "execute_result"
    }
   ],
   "source": [
    "linear_score = np.mean(scores)\n",
    "linear_score"
   ]
  },
  {
   "cell_type": "markdown",
   "metadata": {},
   "source": [
    "## Поліноміальна регресія"
   ]
  },
  {
   "cell_type": "markdown",
   "metadata": {
    "colab": {},
    "colab_type": "code",
    "id": "9TwEABwV7dBh"
   },
   "source": [
    "Розглянемо модель поліноміальної регресії:"
   ]
  },
  {
   "cell_type": "code",
   "execution_count": 18,
   "metadata": {
    "colab": {},
    "colab_type": "code",
    "id": "1MkM7V6j5bQ1"
   },
   "outputs": [],
   "source": [
    "from sklearn.preprocessing import PolynomialFeatures\n",
    "from sklearn.linear_model import LinearRegression\n",
    "from sklearn.pipeline import Pipeline"
   ]
  },
  {
   "cell_type": "markdown",
   "metadata": {},
   "source": [
    "для початку підберемо оптимальну степінь полінома. Для цього побудуємо моделі для поліномів степеней від 1 до 10 і виберемо найкращий:"
   ]
  },
  {
   "cell_type": "code",
   "execution_count": 19,
   "metadata": {
    "colab": {
     "base_uri": "https://localhost:8080/",
     "height": 34
    },
    "colab_type": "code",
    "id": "wQqNGkO95buP",
    "outputId": "b76fddda-17e4-4d35-d844-8e1e84e44ce3"
   },
   "outputs": [
    {
     "name": "stdout",
     "output_type": "stream",
     "text": [
      "[0.9732314547130141, 0.9684516587699648, 0.9961252421223253, 0.9962119565807405, 0.9986067235746545, 0.99624887977612, 0.9974862745510519, 0.9957675009950453, 0.9948974430040253, 0.9943653249607916]\n",
      "\n",
      "Optimal degree: 5\n"
     ]
    }
   ],
   "source": [
    "score_degree = []\n",
    "for i in range(1, 11):\n",
    "    model = Pipeline([('poly', PolynomialFeatures(degree=i)), \n",
    "                      ('linear', LinearRegression(fit_intercept=False))])\n",
    "    model = model.fit(X_train.iloc[:], y_train)\n",
    "    y_pred_p = model.predict(X_test)\n",
    "    score_degree.append(r2_score(y_test, y_pred_p))\n",
    "print(score_degree)\n",
    "print('\\nOptimal degree:', score_degree.index(max(score_degree)) + 1)"
   ]
  },
  {
   "cell_type": "markdown",
   "metadata": {},
   "source": [
    "Проведемо кросвалідацію для оптимальної моделі:"
   ]
  },
  {
   "cell_type": "code",
   "execution_count": 20,
   "metadata": {
    "colab": {
     "base_uri": "https://localhost:8080/",
     "height": 34
    },
    "colab_type": "code",
    "id": "xBdCE1KC7GLx",
    "outputId": "33c971ed-acfb-4f3c-f42d-0714d529ee0e"
   },
   "outputs": [
    {
     "data": {
      "text/plain": [
       "array([0.97489124, 0.99986188, 0.99856954, 0.9998344 , 0.99889621])"
      ]
     },
     "execution_count": 20,
     "metadata": {},
     "output_type": "execute_result"
    }
   ],
   "source": [
    "model = Pipeline([('poly', PolynomialFeatures(degree=5)), \n",
    "                  ('linear', LinearRegression(fit_intercept=False))])\n",
    "model = model.fit(X_train.iloc[:], y_train)\n",
    "\n",
    "scores_p = cross_val_score(model, df.drop('Is', axis=1), df['Is'], scoring='r2', cv=5)\n",
    "scores_p"
   ]
  },
  {
   "cell_type": "markdown",
   "metadata": {},
   "source": [
    "Знайдемо загальний результат для поліноміальної регресії:"
   ]
  },
  {
   "cell_type": "code",
   "execution_count": 21,
   "metadata": {},
   "outputs": [
    {
     "data": {
      "text/plain": [
       "0.9944106521476194"
      ]
     },
     "execution_count": 21,
     "metadata": {},
     "output_type": "execute_result"
    }
   ],
   "source": [
    "linear_score = np.mean(scores_p)\n",
    "linear_score"
   ]
  },
  {
   "cell_type": "markdown",
   "metadata": {},
   "source": [
    "### Висновок: \n",
    "Як бачимо, результат поліноміальної регресії вищий ніж результат лінійної регресії, що означає, що дані в датасеті, швидше за все, залежні не лінійно. Також існує ризик, що степінь поліному не оптимальна, оскільки в нас немає ніяких даних про взаємозв'язки в датасеті.\n",
    "\n",
    "Проте яка модель настправді краща буде видно в перевірці на тестових даних."
   ]
  },
  {
   "cell_type": "markdown",
   "metadata": {},
   "source": [
    "## Перевірка"
   ]
  },
  {
   "cell_type": "markdown",
   "metadata": {},
   "source": [
    "потрібно провести таку саму підготовку даних"
   ]
  },
  {
   "cell_type": "code",
   "execution_count": 22,
   "metadata": {},
   "outputs": [
    {
     "data": {
      "text/html": [
       "<div>\n",
       "<style scoped>\n",
       "    .dataframe tbody tr th:only-of-type {\n",
       "        vertical-align: middle;\n",
       "    }\n",
       "\n",
       "    .dataframe tbody tr th {\n",
       "        vertical-align: top;\n",
       "    }\n",
       "\n",
       "    .dataframe thead th {\n",
       "        text-align: right;\n",
       "    }\n",
       "</style>\n",
       "<table border=\"1\" class=\"dataframe\">\n",
       "  <thead>\n",
       "    <tr style=\"text-align: right;\">\n",
       "      <th></th>\n",
       "      <th>Unnamed: 0</th>\n",
       "      <th>ISO</th>\n",
       "      <th>UA</th>\n",
       "      <th>Cql</th>\n",
       "      <th>Ie</th>\n",
       "      <th>Iec</th>\n",
       "      <th>Is</th>\n",
       "    </tr>\n",
       "  </thead>\n",
       "  <tbody>\n",
       "    <tr>\n",
       "      <th>0</th>\n",
       "      <td>Togo</td>\n",
       "      <td>TGO</td>\n",
       "      <td>Òîãî</td>\n",
       "      <td>0,45349807</td>\n",
       "      <td>0,216806252</td>\n",
       "      <td>0,368234721</td>\n",
       "      <td>0,433950896</td>\n",
       "    </tr>\n",
       "    <tr>\n",
       "      <th>1</th>\n",
       "      <td>Tunisia</td>\n",
       "      <td>TUN</td>\n",
       "      <td>Òóí³ñ</td>\n",
       "      <td>0,899461952</td>\n",
       "      <td>0,659123985</td>\n",
       "      <td>0,418255976</td>\n",
       "      <td>0,514745939</td>\n",
       "    </tr>\n",
       "    <tr>\n",
       "      <th>2</th>\n",
       "      <td>Turkey</td>\n",
       "      <td>TUR</td>\n",
       "      <td>Òóðå÷÷èíà</td>\n",
       "      <td>0,859283802</td>\n",
       "      <td>0,498840185</td>\n",
       "      <td>0,509228185</td>\n",
       "      <td>0,499453094</td>\n",
       "    </tr>\n",
       "    <tr>\n",
       "      <th>3</th>\n",
       "      <td>Uganda</td>\n",
       "      <td>UGA</td>\n",
       "      <td>Ó´àíäà</td>\n",
       "      <td>0,571284014</td>\n",
       "      <td>0,362945628</td>\n",
       "      <td>0,448731923</td>\n",
       "      <td>0,375726313</td>\n",
       "    </tr>\n",
       "    <tr>\n",
       "      <th>4</th>\n",
       "      <td>Ukraine</td>\n",
       "      <td>UKR</td>\n",
       "      <td>Óêðà¿íà</td>\n",
       "      <td>0,802203636</td>\n",
       "      <td>0,689164485</td>\n",
       "      <td>0,303554874</td>\n",
       "      <td>0,462744168</td>\n",
       "    </tr>\n",
       "  </tbody>\n",
       "</table>\n",
       "</div>"
      ],
      "text/plain": [
       "  Unnamed: 0  ISO         UA          Cql           Ie          Iec  \\\n",
       "0       Togo  TGO       Òîãî   0,45349807  0,216806252  0,368234721   \n",
       "1    Tunisia  TUN      Òóí³ñ  0,899461952  0,659123985  0,418255976   \n",
       "2     Turkey  TUR  Òóðå÷÷èíà  0,859283802  0,498840185  0,509228185   \n",
       "3     Uganda  UGA     Ó´àíäà  0,571284014  0,362945628  0,448731923   \n",
       "4    Ukraine  UKR    Óêðà¿íà  0,802203636  0,689164485  0,303554874   \n",
       "\n",
       "            Is  \n",
       "0  0,433950896  \n",
       "1  0,514745939  \n",
       "2  0,499453094  \n",
       "3  0,375726313  \n",
       "4  0,462744168  "
      ]
     },
     "execution_count": 22,
     "metadata": {},
     "output_type": "execute_result"
    }
   ],
   "source": [
    "df_test = pd.read_csv('test_task.csv', sep=';',  encoding = \"ISO-8859-1\")\n",
    "df_test.head()"
   ]
  },
  {
   "cell_type": "code",
   "execution_count": 23,
   "metadata": {},
   "outputs": [
    {
     "name": "stdout",
     "output_type": "stream",
     "text": [
      "<class 'pandas.core.frame.DataFrame'>\n",
      "RangeIndex: 5 entries, 0 to 4\n",
      "Data columns (total 4 columns):\n",
      "Cql    5 non-null object\n",
      "Ie     5 non-null object\n",
      "Iec    5 non-null object\n",
      "Is     5 non-null object\n",
      "dtypes: object(4)\n",
      "memory usage: 240.0+ bytes\n"
     ]
    }
   ],
   "source": [
    "df_test = df_test.drop(['Unnamed: 0', 'ISO', 'UA'], axis=1)\n",
    "df_test.info()"
   ]
  },
  {
   "cell_type": "code",
   "execution_count": 24,
   "metadata": {},
   "outputs": [
    {
     "name": "stdout",
     "output_type": "stream",
     "text": [
      "<class 'pandas.core.frame.DataFrame'>\n",
      "RangeIndex: 5 entries, 0 to 4\n",
      "Data columns (total 4 columns):\n",
      "Cql    5 non-null float64\n",
      "Ie     5 non-null float64\n",
      "Iec    5 non-null float64\n",
      "Is     5 non-null float64\n",
      "dtypes: float64(4)\n",
      "memory usage: 240.0 bytes\n"
     ]
    }
   ],
   "source": [
    "df_test = df_test.apply(replace_comma_to_dot)\n",
    "\n",
    "for i in df_test.columns:\n",
    "    df_test[i] = pd.to_numeric(df_test[i])\n",
    "df_test.info()"
   ]
  },
  {
   "cell_type": "code",
   "execution_count": 25,
   "metadata": {},
   "outputs": [],
   "source": [
    "df_test = df_test.apply(abs_dataframe)"
   ]
  },
  {
   "cell_type": "code",
   "execution_count": 26,
   "metadata": {},
   "outputs": [],
   "source": [
    "test_x = df_test.drop('Is', axis=1)\n",
    "test_y = df_test['Is']"
   ]
  },
  {
   "cell_type": "markdown",
   "metadata": {},
   "source": [
    "Перевірка лінійної регресії:"
   ]
  },
  {
   "cell_type": "code",
   "execution_count": 27,
   "metadata": {},
   "outputs": [
    {
     "data": {
      "text/plain": [
       "0.8992481243591328"
      ]
     },
     "execution_count": 27,
     "metadata": {},
     "output_type": "execute_result"
    }
   ],
   "source": [
    "lin_pred = lr.predict(test_x)\n",
    "r2_score(test_y, lin_pred)"
   ]
  },
  {
   "cell_type": "markdown",
   "metadata": {},
   "source": [
    "Перевірка поліноміальної регресії:"
   ]
  },
  {
   "cell_type": "code",
   "execution_count": 28,
   "metadata": {},
   "outputs": [
    {
     "data": {
      "text/plain": [
       "0.9872627961056255"
      ]
     },
     "execution_count": 28,
     "metadata": {},
     "output_type": "execute_result"
    }
   ],
   "source": [
    "polin_pred = model.predict(test_x)\n",
    "r2_score(test_y, polin_pred)"
   ]
  },
  {
   "cell_type": "markdown",
   "metadata": {},
   "source": [
    "## Висновки"
   ]
  },
  {
   "cell_type": "markdown",
   "metadata": {},
   "source": [
    "Тепер можна з впевенністю сказати, що дані в датасеті залежать не лінійно, саме тому результат поліноміальної регресії набагато кращий від результату лінійної регресії."
   ]
  }
 ],
 "metadata": {
  "colab": {
   "collapsed_sections": [],
   "name": "Test.ipynb",
   "provenance": [],
   "version": "0.3.2"
  },
  "kernelspec": {
   "display_name": "Python 3",
   "language": "python",
   "name": "python3"
  },
  "language_info": {
   "codemirror_mode": {
    "name": "ipython",
    "version": 3
   },
   "file_extension": ".py",
   "mimetype": "text/x-python",
   "name": "python",
   "nbconvert_exporter": "python",
   "pygments_lexer": "ipython3",
   "version": "3.7.2rc1"
  }
 },
 "nbformat": 4,
 "nbformat_minor": 1
}

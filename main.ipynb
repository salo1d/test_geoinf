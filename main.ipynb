{
  "nbformat": 4,
  "nbformat_minor": 0,
  "metadata": {
    "colab": {
      "name": "Test.ipynb",
      "version": "0.3.2",
      "provenance": [],
      "collapsed_sections": []
    },
    "kernelspec": {
      "name": "python3",
      "display_name": "Python 3"
    }
  },
  "cells": [
    {
      "metadata": {
        "id": "-bwYHpFGqD81",
        "colab_type": "code",
        "colab": {
          "base_uri": "https://localhost:8080/",
          "height": 122
        },
        "outputId": "9e7d5ad8-b6d1-4966-939f-0263305afed1"
      },
      "cell_type": "code",
      "source": [
        "from google.colab import drive\n",
        "drive.mount('/content/gdrive')"
      ],
      "execution_count": 1,
      "outputs": [
        {
          "output_type": "stream",
          "text": [
            "Go to this URL in a browser: https://accounts.google.com/o/oauth2/auth?client_id=947318989803-6bn6qk8qdgf4n4g3pfee6491hc0brc4i.apps.googleusercontent.com&redirect_uri=urn%3Aietf%3Awg%3Aoauth%3A2.0%3Aoob&scope=email%20https%3A%2F%2Fwww.googleapis.com%2Fauth%2Fdocs.test%20https%3A%2F%2Fwww.googleapis.com%2Fauth%2Fdrive%20https%3A%2F%2Fwww.googleapis.com%2Fauth%2Fdrive.photos.readonly%20https%3A%2F%2Fwww.googleapis.com%2Fauth%2Fpeopleapi.readonly&response_type=code\n",
            "\n",
            "Enter your authorization code:\n",
            "··········\n",
            "Mounted at /content/gdrive\n"
          ],
          "name": "stdout"
        }
      ]
    },
    {
      "metadata": {
        "id": "tfytH838qQt4",
        "colab_type": "code",
        "colab": {}
      },
      "cell_type": "code",
      "source": [
        "import pandas as pd\n",
        "import numpy as np\n",
        "import seaborn as sb"
      ],
      "execution_count": 0,
      "outputs": []
    },
    {
      "metadata": {
        "id": "ymlLW-Sq1tfk",
        "colab_type": "text"
      },
      "cell_type": "markdown",
      "source": [
        "Завантажуємо дані, ти дивимося на перші 5 рядків:"
      ]
    },
    {
      "metadata": {
        "id": "UKSXiTqVqdlx",
        "colab_type": "code",
        "colab": {
          "base_uri": "https://localhost:8080/",
          "height": 204
        },
        "outputId": "b46b853a-e6aa-4673-d6f6-70ac0b5d6f20"
      },
      "cell_type": "code",
      "source": [
        "df = pd.read_csv('/content/gdrive/My Drive/task.csv', sep=';',  encoding = \"ISO-8859-1\")\n",
        "df.head()"
      ],
      "execution_count": 38,
      "outputs": [
        {
          "output_type": "execute_result",
          "data": {
            "text/html": [
              "<div>\n",
              "<style scoped>\n",
              "    .dataframe tbody tr th:only-of-type {\n",
              "        vertical-align: middle;\n",
              "    }\n",
              "\n",
              "    .dataframe tbody tr th {\n",
              "        vertical-align: top;\n",
              "    }\n",
              "\n",
              "    .dataframe thead th {\n",
              "        text-align: right;\n",
              "    }\n",
              "</style>\n",
              "<table border=\"1\" class=\"dataframe\">\n",
              "  <thead>\n",
              "    <tr style=\"text-align: right;\">\n",
              "      <th></th>\n",
              "      <th>Unnamed: 0</th>\n",
              "      <th>ISO</th>\n",
              "      <th>UA</th>\n",
              "      <th>Cql</th>\n",
              "      <th>Ie</th>\n",
              "      <th>Iec</th>\n",
              "      <th>Is</th>\n",
              "    </tr>\n",
              "  </thead>\n",
              "  <tbody>\n",
              "    <tr>\n",
              "      <th>0</th>\n",
              "      <td>Albania</td>\n",
              "      <td>ALB</td>\n",
              "      <td>Àëáàí³ÿ</td>\n",
              "      <td>0,97392353</td>\n",
              "      <td>0,605347614</td>\n",
              "      <td>0,538672856</td>\n",
              "      <td>0,510112666</td>\n",
              "    </tr>\n",
              "    <tr>\n",
              "      <th>1</th>\n",
              "      <td>Algeria</td>\n",
              "      <td>DZA</td>\n",
              "      <td>Àëæèð</td>\n",
              "      <td>0,782134498</td>\n",
              "      <td>0,58721932</td>\n",
              "      <td>0,348159396</td>\n",
              "      <td>0,497985576</td>\n",
              "    </tr>\n",
              "    <tr>\n",
              "      <th>2</th>\n",
              "      <td>Angola</td>\n",
              "      <td>AGO</td>\n",
              "      <td>Àíãîëà</td>\n",
              "      <td>0,372343539</td>\n",
              "      <td>0,27439361</td>\n",
              "      <td>0,332117384</td>\n",
              "      <td>0,346906645</td>\n",
              "    </tr>\n",
              "    <tr>\n",
              "      <th>3</th>\n",
              "      <td>Argentina</td>\n",
              "      <td>ARG</td>\n",
              "      <td>Àðãåíòèíà</td>\n",
              "      <td>0,883830062</td>\n",
              "      <td>0,699685109</td>\n",
              "      <td>0,28199471</td>\n",
              "      <td>0,518820368</td>\n",
              "    </tr>\n",
              "    <tr>\n",
              "      <th>4</th>\n",
              "      <td>Armenia</td>\n",
              "      <td>ARM</td>\n",
              "      <td>Â³ðìåí³ÿ</td>\n",
              "      <td>1,016498793</td>\n",
              "      <td>0,718326882</td>\n",
              "      <td>0,535647909</td>\n",
              "      <td>0,486498047</td>\n",
              "    </tr>\n",
              "  </tbody>\n",
              "</table>\n",
              "</div>"
            ],
            "text/plain": [
              "  Unnamed: 0  ISO         UA          Cql           Ie          Iec  \\\n",
              "0    Albania  ALB    Àëáàí³ÿ   0,97392353  0,605347614  0,538672856   \n",
              "1    Algeria  DZA      Àëæèð  0,782134498   0,58721932  0,348159396   \n",
              "2     Angola  AGO     Àíãîëà  0,372343539   0,27439361  0,332117384   \n",
              "3  Argentina  ARG  Àðãåíòèíà  0,883830062  0,699685109   0,28199471   \n",
              "4    Armenia  ARM   Â³ðìåí³ÿ  1,016498793  0,718326882  0,535647909   \n",
              "\n",
              "            Is  \n",
              "0  0,510112666  \n",
              "1  0,497985576  \n",
              "2  0,346906645  \n",
              "3  0,518820368  \n",
              "4  0,486498047  "
            ]
          },
          "metadata": {
            "tags": []
          },
          "execution_count": 38
        }
      ]
    },
    {
      "metadata": {
        "id": "R1I31iRE12ME",
        "colab_type": "text"
      },
      "cell_type": "markdown",
      "source": [
        "Далі видалємо перші 3 колонки, вони нам не потрібні на даному етапі, якщо потім знадобляться, ми зможемо їх додати по індексу"
      ]
    },
    {
      "metadata": {
        "id": "XgRTnLKStNZy",
        "colab_type": "code",
        "colab": {
          "base_uri": "https://localhost:8080/",
          "height": 204
        },
        "outputId": "b579547f-c967-422b-a662-af86fd67eb14"
      },
      "cell_type": "code",
      "source": [
        "df = df.drop(['Unnamed: 0', 'ISO', 'UA'], axis=1)\n",
        "df.head()"
      ],
      "execution_count": 39,
      "outputs": [
        {
          "output_type": "execute_result",
          "data": {
            "text/html": [
              "<div>\n",
              "<style scoped>\n",
              "    .dataframe tbody tr th:only-of-type {\n",
              "        vertical-align: middle;\n",
              "    }\n",
              "\n",
              "    .dataframe tbody tr th {\n",
              "        vertical-align: top;\n",
              "    }\n",
              "\n",
              "    .dataframe thead th {\n",
              "        text-align: right;\n",
              "    }\n",
              "</style>\n",
              "<table border=\"1\" class=\"dataframe\">\n",
              "  <thead>\n",
              "    <tr style=\"text-align: right;\">\n",
              "      <th></th>\n",
              "      <th>Cql</th>\n",
              "      <th>Ie</th>\n",
              "      <th>Iec</th>\n",
              "      <th>Is</th>\n",
              "    </tr>\n",
              "  </thead>\n",
              "  <tbody>\n",
              "    <tr>\n",
              "      <th>0</th>\n",
              "      <td>0,97392353</td>\n",
              "      <td>0,605347614</td>\n",
              "      <td>0,538672856</td>\n",
              "      <td>0,510112666</td>\n",
              "    </tr>\n",
              "    <tr>\n",
              "      <th>1</th>\n",
              "      <td>0,782134498</td>\n",
              "      <td>0,58721932</td>\n",
              "      <td>0,348159396</td>\n",
              "      <td>0,497985576</td>\n",
              "    </tr>\n",
              "    <tr>\n",
              "      <th>2</th>\n",
              "      <td>0,372343539</td>\n",
              "      <td>0,27439361</td>\n",
              "      <td>0,332117384</td>\n",
              "      <td>0,346906645</td>\n",
              "    </tr>\n",
              "    <tr>\n",
              "      <th>3</th>\n",
              "      <td>0,883830062</td>\n",
              "      <td>0,699685109</td>\n",
              "      <td>0,28199471</td>\n",
              "      <td>0,518820368</td>\n",
              "    </tr>\n",
              "    <tr>\n",
              "      <th>4</th>\n",
              "      <td>1,016498793</td>\n",
              "      <td>0,718326882</td>\n",
              "      <td>0,535647909</td>\n",
              "      <td>0,486498047</td>\n",
              "    </tr>\n",
              "  </tbody>\n",
              "</table>\n",
              "</div>"
            ],
            "text/plain": [
              "           Cql           Ie          Iec           Is\n",
              "0   0,97392353  0,605347614  0,538672856  0,510112666\n",
              "1  0,782134498   0,58721932  0,348159396  0,497985576\n",
              "2  0,372343539   0,27439361  0,332117384  0,346906645\n",
              "3  0,883830062  0,699685109   0,28199471  0,518820368\n",
              "4  1,016498793  0,718326882  0,535647909  0,486498047"
            ]
          },
          "metadata": {
            "tags": []
          },
          "execution_count": 39
        }
      ]
    },
    {
      "metadata": {
        "id": "6T8QtBoy2KGZ",
        "colab_type": "text"
      },
      "cell_type": "markdown",
      "source": [
        "Дивимося загальну інформацію по датасету:"
      ]
    },
    {
      "metadata": {
        "id": "5fQAuKc3tdnW",
        "colab_type": "code",
        "colab": {
          "base_uri": "https://localhost:8080/",
          "height": 170
        },
        "outputId": "d8a90af2-d546-4426-af44-cb5cea3c8569"
      },
      "cell_type": "code",
      "source": [
        "df.info()"
      ],
      "execution_count": 40,
      "outputs": [
        {
          "output_type": "stream",
          "text": [
            "<class 'pandas.core.frame.DataFrame'>\n",
            "RangeIndex: 132 entries, 0 to 131\n",
            "Data columns (total 4 columns):\n",
            "Cql    132 non-null object\n",
            "Ie     132 non-null object\n",
            "Iec    132 non-null object\n",
            "Is     132 non-null object\n",
            "dtypes: object(4)\n",
            "memory usage: 4.2+ KB\n"
          ],
          "name": "stdout"
        }
      ]
    },
    {
      "metadata": {
        "id": "etodONTw2Pnx",
        "colab_type": "text"
      },
      "cell_type": "markdown",
      "source": [
        "як бачимо, в нас 132 рядки, немає NaN-ів, проте є проблема, що тип даних - object, проблема зв'язана з python, він не розпізнає float, який розділений комою, наступна дія це пофіксить:"
      ]
    },
    {
      "metadata": {
        "id": "kSz1Z_qfttm_",
        "colab_type": "code",
        "colab": {
          "base_uri": "https://localhost:8080/",
          "height": 170
        },
        "outputId": "dc7c6984-7957-471d-dfc6-1c4b4a49278c"
      },
      "cell_type": "code",
      "source": [
        "def f(raw):\n",
        "  for j in range(len(raw)):\n",
        "    raw[j] = float(str(raw[j]).replace(',', '.'))\n",
        "  return raw\n",
        "\n",
        "df = df.apply(f)\n",
        "df.info()"
      ],
      "execution_count": 41,
      "outputs": [
        {
          "output_type": "stream",
          "text": [
            "<class 'pandas.core.frame.DataFrame'>\n",
            "RangeIndex: 132 entries, 0 to 131\n",
            "Data columns (total 4 columns):\n",
            "Cql    132 non-null float64\n",
            "Ie     132 non-null float64\n",
            "Iec    132 non-null float64\n",
            "Is     132 non-null float64\n",
            "dtypes: float64(4)\n",
            "memory usage: 4.2 KB\n"
          ],
          "name": "stdout"
        }
      ]
    },
    {
      "metadata": {
        "id": "Mobegkke2m1U",
        "colab_type": "text"
      },
      "cell_type": "markdown",
      "source": [
        "Як можемо побачити, тепер в нас тип даних float :)\n",
        "\n",
        "Далі замінимо всі від'ємні значення, якщо такі є, на додатні:"
      ]
    },
    {
      "metadata": {
        "id": "gZLvf8Np0b_F",
        "colab_type": "code",
        "colab": {}
      },
      "cell_type": "code",
      "source": [
        "def f_1(raw):\n",
        "  for j in range(len(raw)):\n",
        "    if raw[j] < 0:\n",
        "      raw[j] = np.absolute(raw[j])\n",
        "  return raw\n",
        "\n",
        "df = df.apply(f_1)"
      ],
      "execution_count": 0,
      "outputs": []
    },
    {
      "metadata": {
        "id": "3x3cB4sh23BL",
        "colab_type": "text"
      },
      "cell_type": "markdown",
      "source": [
        "Тепер побудуємо кореляційну матрицю:"
      ]
    },
    {
      "metadata": {
        "id": "Xa_gEnpjtf1Z",
        "colab_type": "code",
        "colab": {
          "base_uri": "https://localhost:8080/",
          "height": 364
        },
        "outputId": "955251dd-9a88-46af-c97c-b1547427517f"
      },
      "cell_type": "code",
      "source": [
        "corr = df_1.corr()\n",
        "sb.heatmap(corr, annot=True)"
      ],
      "execution_count": 45,
      "outputs": [
        {
          "output_type": "execute_result",
          "data": {
            "text/plain": [
              "<matplotlib.axes._subplots.AxesSubplot at 0x7f1335666710>"
            ]
          },
          "metadata": {
            "tags": []
          },
          "execution_count": 45
        },
        {
          "output_type": "display_data",
          "data": {
            "image/png": "[encoded data removed]",
            "text/plain": [
              "<Figure size 576x396 with 2 Axes>"
            ]
          },
          "metadata": {
            "tags": []
          }
        }
      ]
    },
    {
      "metadata": {
        "id": "5Eay-5ao3ASa",
        "colab_type": "text"
      },
      "cell_type": "markdown",
      "source": [
        "розіб'ємо дані на навчальну і тестову вибірки, таким чином, щоб тестова становила 20% від всіх даних"
      ]
    },
    {
      "metadata": {
        "id": "IwIpkHQQ1rfO",
        "colab_type": "code",
        "colab": {}
      },
      "cell_type": "code",
      "source": [
        "from sklearn.model_selection import train_test_split"
      ],
      "execution_count": 0,
      "outputs": []
    },
    {
      "metadata": {
        "id": "VigifSmX3x5G",
        "colab_type": "code",
        "colab": {}
      },
      "cell_type": "code",
      "source": [
        "X_train, X_test, y_train, y_test = train_test_split(df.drop('Is',axis=1), \n",
        "                                                    df['Is'], test_size=0.20, \n",
        "                                                    random_state=101)"
      ],
      "execution_count": 0,
      "outputs": []
    },
    {
      "metadata": {
        "id": "NST2Vk-035nN",
        "colab_type": "text"
      },
      "cell_type": "markdown",
      "source": [
        "Спробуємо натренувати лінійну регресію\n",
        "\n",
        "Для оцінки будемо використовувати метрику $R^2$\n"
      ]
    },
    {
      "metadata": {
        "id": "SRI2o8Zs1Ojg",
        "colab_type": "code",
        "colab": {}
      },
      "cell_type": "code",
      "source": [
        "from sklearn.linear_model import LinearRegression\n",
        "from sklearn.metrics import r2_score"
      ],
      "execution_count": 0,
      "outputs": []
    },
    {
      "metadata": {
        "id": "aTS-aG1U0S79",
        "colab_type": "code",
        "colab": {
          "base_uri": "https://localhost:8080/",
          "height": 34
        },
        "outputId": "280ca17c-cd7d-4b05-989b-dfc95c40cba2"
      },
      "cell_type": "code",
      "source": [
        "lr = LinearRegression(n_jobs=-1)\n",
        "lr = lr.fit(X_train, y_train)\n",
        "y_pred = lr.predict(X_test)\n",
        "r2_score(y_test, y_pred)"
      ],
      "execution_count": 51,
      "outputs": [
        {
          "output_type": "execute_result",
          "data": {
            "text/plain": [
              "0.9732314547130143"
            ]
          },
          "metadata": {
            "tags": []
          },
          "execution_count": 51
        }
      ]
    },
    {
      "metadata": {
        "id": "roGXGefc8ryW",
        "colab_type": "text"
      },
      "cell_type": "markdown",
      "source": [
        "Як бачимо, отримали досить непоганий результат, бля перевірки його адекватності проведемо крос-валідацію:"
      ]
    },
    {
      "metadata": {
        "id": "0q0UwDMz5bM8",
        "colab_type": "code",
        "colab": {
          "base_uri": "https://localhost:8080/",
          "height": 34
        },
        "outputId": "ce9e06d4-cd27-4cd8-a434-03ba9827d9bd"
      },
      "cell_type": "code",
      "source": [
        "scores = cross_val_score(lr, df.drop('Is', axis=1), df['Is'], scoring='r2', cv=5)\n",
        "scores"
      ],
      "execution_count": 85,
      "outputs": [
        {
          "output_type": "execute_result",
          "data": {
            "text/plain": [
              "array([0.96211109, 0.97732049, 0.96406087, 0.96860884, 0.94903708])"
            ]
          },
          "metadata": {
            "tags": []
          },
          "execution_count": 85
        }
      ]
    },
    {
      "metadata": {
        "id": "H_-AxHST89NV",
        "colab_type": "text"
      },
      "cell_type": "markdown",
      "source": [
        ""
      ]
    },
    {
      "metadata": {
        "id": "9TwEABwV7dBh",
        "colab_type": "code",
        "colab": {}
      },
      "cell_type": "code",
      "source": [
        ""
      ],
      "execution_count": 0,
      "outputs": []
    },
    {
      "metadata": {
        "id": "1MkM7V6j5bQ1",
        "colab_type": "code",
        "colab": {}
      },
      "cell_type": "code",
      "source": [
        "from sklearn.preprocessing import PolynomialFeatures\n",
        "from sklearn.linear_model import LinearRegression\n",
        "from sklearn.pipeline import Pipeline"
      ],
      "execution_count": 0,
      "outputs": []
    },
    {
      "metadata": {
        "id": "wQqNGkO95buP",
        "colab_type": "code",
        "colab": {
          "base_uri": "https://localhost:8080/",
          "height": 34
        },
        "outputId": "b76fddda-17e4-4d35-d844-8e1e84e44ce3"
      },
      "cell_type": "code",
      "source": [
        "model = Pipeline([('poly', PolynomialFeatures(degree=5)), \n",
        "                  ('linear', LinearRegression(fit_intercept=False))])\n",
        "# fit to an order-3 polynomial data\n",
        "model = model.fit(X_train.iloc[:], y_train)\n",
        "y_pred_p = model.predict(X_test)\n",
        "r2_score(y_test, y_pred_p)"
      ],
      "execution_count": 94,
      "outputs": [
        {
          "output_type": "execute_result",
          "data": {
            "text/plain": [
              "0.9986067235731338"
            ]
          },
          "metadata": {
            "tags": []
          },
          "execution_count": 94
        }
      ]
    },
    {
      "metadata": {
        "id": "FzeFcFKj7EpD",
        "colab_type": "code",
        "colab": {}
      },
      "cell_type": "code",
      "source": [
        "from sklearn.model_selection import cross_val_score"
      ],
      "execution_count": 0,
      "outputs": []
    },
    {
      "metadata": {
        "id": "xBdCE1KC7GLx",
        "colab_type": "code",
        "colab": {
          "base_uri": "https://localhost:8080/",
          "height": 34
        },
        "outputId": "33c971ed-acfb-4f3c-f42d-0714d529ee0e"
      },
      "cell_type": "code",
      "source": [
        "scores_p = cross_val_score(model, df.drop('Is', axis=1), df['Is'], scoring='r2', cv=5)\n",
        "scores_p"
      ],
      "execution_count": 95,
      "outputs": [
        {
          "output_type": "execute_result",
          "data": {
            "text/plain": [
              "array([0.97489124, 0.99986188, 0.99856954, 0.9998344 , 0.99889621])"
            ]
          },
          "metadata": {
            "tags": []
          },
          "execution_count": 95
        }
      ]
    }
  ]
}